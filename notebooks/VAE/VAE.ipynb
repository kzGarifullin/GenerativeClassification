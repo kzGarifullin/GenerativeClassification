{
  "cells": [
    {
      "cell_type": "markdown",
      "metadata": {
        "id": "EkCpEhHPXPXB"
      },
      "source": [
        "# VAE"
      ]
    },
    {
      "cell_type": "code",
      "execution_count": 1,
      "metadata": {
        "id": "p5fPBbi12AII"
      },
      "outputs": [
        {
          "name": "stderr",
          "output_type": "stream",
          "text": [
            "/Users/melnikov/Desktop/study/Skoltech/ML/DiffClassification/.venv/lib/python3.12/site-packages/tqdm/auto.py:21: TqdmWarning: IProgress not found. Please update jupyter and ipywidgets. See https://ipywidgets.readthedocs.io/en/stable/user_install.html\n",
            "  from .autonotebook import tqdm as notebook_tqdm\n"
          ]
        }
      ],
      "source": [
        "# import libraries\n",
        "\n",
        "import torch\n",
        "import torch.nn as nn\n",
        "\n",
        "from torchvision import transforms, datasets\n",
        "import torch.nn.functional as F\n",
        "import torch.optim as optim\n",
        "\n",
        "\n",
        "import numpy as np\n",
        "import matplotlib.pyplot as plt\n",
        "from tqdm import tqdm"
      ]
    },
    {
      "cell_type": "code",
      "execution_count": null,
      "metadata": {
        "id": "Y9rbHSOy5Sly"
      },
      "outputs": [],
      "source": [
        "# download datasets\n",
        "\n",
        "# you can also try transforms.ToTensor() + transforms.Normalize(mean, std) with mean = 0.5, std = 0.5, BUT if you do so, instead of nn.Sigmoid() in the model use nn.Tanh()\n",
        "transform = transforms.ToTensor()\n",
        "\n",
        "# download data for training\n",
        "mnist_data = datasets.MNIST(root='./todata', train=True,\n",
        "                            download=True, transform = transform)\n",
        "\n",
        "# set dataloader\n",
        "data_loader = torch.utils.data.DataLoader(dataset = mnist_data,\n",
        "                                          batch_size = 64,\n",
        "                                          shuffle = True)\n",
        "# download data for test\n",
        "test_data = datasets.MNIST(root='./data', train=False,\n",
        "                            download=True, transform = transform)"
      ]
    },
    {
      "cell_type": "code",
      "execution_count": 3,
      "metadata": {},
      "outputs": [],
      "source": [
        "class ConvVAE(nn.Module):\n",
        "    def __init__(self, latent_dim):\n",
        "        super(ConvVAE, self).__init__()\n",
        "        # Encoder\n",
        "        self.encoder = nn.Sequential(\n",
        "            nn.Conv2d(1, 32, kernel_size=3, stride=1, padding=1),  # Output: (32, 28, 28)\n",
        "            nn.ReLU(),\n",
        "            nn.Conv2d(32, 64, kernel_size=3, stride=2, padding=1),  # Output: (64, 14, 14)\n",
        "            nn.ReLU(),\n",
        "            nn.Conv2d(64, 128, kernel_size=3, stride=2, padding=1),  # Output: (128, 7, 7)\n",
        "            nn.ReLU(),\n",
        "            nn.Flatten(),  # Flatten the conv features to feed them into the linear layers\n",
        "            nn.Linear(128 * 7 * 7, 1024),\n",
        "            nn.ReLU(),\n",
        "            nn.Linear(1024, latent_dim * 2)  # We need 2 * latent_dim for mean and log-variance\n",
        "        )\n",
        "        \n",
        "        # Decoder\n",
        "        self.decoder = nn.Sequential(\n",
        "            nn.Linear(latent_dim, 1024),\n",
        "            nn.ReLU(),\n",
        "            nn.Linear(1024, 128 * 7 * 7),\n",
        "            nn.ReLU(),\n",
        "            nn.Unflatten(1, (128, 7, 7)),  # Unflatten to bring back into image dimensions for conv layers\n",
        "            nn.ConvTranspose2d(128, 64, kernel_size=3, stride=2, padding=1, output_padding=1),\n",
        "            nn.ReLU(),\n",
        "            nn.ConvTranspose2d(64, 32, kernel_size=3, stride=2, padding=1, output_padding=1),\n",
        "            nn.ReLU(),\n",
        "            nn.ConvTranspose2d(32, 1, kernel_size=3, stride=1, padding=1),\n",
        "            nn.Sigmoid()  # Sigmoid because MNIST is between [0, 1]\n",
        "        )\n",
        "    \n",
        "    def reparameterize(self, mu, log_var):\n",
        "        std = torch.exp(0.5*log_var)\n",
        "        eps = torch.randn_like(std)\n",
        "        return mu + eps * std\n",
        "\n",
        "    def forward(self, x):\n",
        "        # Encoding\n",
        "        x_encoded = self.encoder(x)\n",
        "        mu, log_var = x_encoded.chunk(2, dim=-1)  # Split the encoded values into mu and log_var components\n",
        "        \n",
        "        # Reparameterization trick\n",
        "        z = self.reparameterize(mu, log_var)\n",
        "        \n",
        "        # Decoding\n",
        "        x_reconstructed = self.decoder(torch.Tensor(z))\n",
        "        \n",
        "        return x_reconstructed, mu, log_var\n",
        "\n",
        "# Loss function for VAE\n",
        "def vae_loss(reconstructed_x, x, mu, logvar):\n",
        "    x = x.view(-1, 1, 28, 28)\n",
        "    reconstructed_x = reconstructed_x.view(-1, 1, 28, 28)\n",
        "\n",
        "    BCE = F.binary_cross_entropy(reconstructed_x, x, reduction='sum')\n",
        "\n",
        "    KLD = -0.5 * torch.sum(1 + logvar - mu.pow(2) - logvar.exp())\n",
        "\n",
        "    return BCE + KLD"
      ]
    },
    {
      "cell_type": "code",
      "execution_count": 7,
      "metadata": {},
      "outputs": [],
      "source": [
        "def train_model(model, epochs, train_loader, lr=1e-3, device='cuda'):\n",
        "\n",
        "    optimizer = optim.Adam(model.parameters(), lr=lr)\n",
        "    loss_arr = []\n",
        "\n",
        "    for epoch in tqdm(range(epochs)):\n",
        "        loss = 0\n",
        "        for batch_idx, (data, _) in enumerate(train_loader):\n",
        "            # Move data to the device\n",
        "            data = data.to(device)\n",
        "\n",
        "            # Forward pass\n",
        "            reconstructed_images, mu, logvar = model(data)\n",
        "\n",
        "            # Compute loss\n",
        "            loss = vae_loss(reconstructed_images, data, mu, logvar)\n",
        "            loss_arr.append(loss)\n",
        "\n",
        "            # Backward pass and optimize\n",
        "            optimizer.zero_grad()\n",
        "            loss.backward()\n",
        "            optimizer.step()\n",
        "\n",
        "            # if batch_idx % 100 == 0:\n",
        "            #     print(f\"Train Epoch: {epoch} [{batch_idx * len(data)}/{len(mnist_loader.dataset)} \"\n",
        "            #           f\"({100. * batch_idx / len(mnist_loader):.0f}%)]\\tLoss: {loss.item() / len(data):.6f}\")\n",
        "        print(f'Epoch {epoch}, Loss: {loss}')\n",
        "    return loss_arr"
      ]
    },
    {
      "cell_type": "code",
      "execution_count": 8,
      "metadata": {},
      "outputs": [
        {
          "name": "stderr",
          "output_type": "stream",
          "text": [
            " 10%|█         | 1/10 [00:27<04:03, 27.11s/it]"
          ]
        },
        {
          "name": "stdout",
          "output_type": "stream",
          "text": [
            "Epoch 0, Loss: 4007.49609375\n"
          ]
        },
        {
          "name": "stderr",
          "output_type": "stream",
          "text": [
            " 20%|██        | 2/10 [00:50<03:17, 24.74s/it]"
          ]
        },
        {
          "name": "stdout",
          "output_type": "stream",
          "text": [
            "Epoch 1, Loss: 3868.60791015625\n"
          ]
        },
        {
          "name": "stderr",
          "output_type": "stream",
          "text": [
            " 30%|███       | 3/10 [01:13<02:49, 24.19s/it]"
          ]
        },
        {
          "name": "stdout",
          "output_type": "stream",
          "text": [
            "Epoch 2, Loss: 3893.788818359375\n"
          ]
        },
        {
          "name": "stderr",
          "output_type": "stream",
          "text": [
            " 40%|████      | 4/10 [01:37<02:24, 24.11s/it]"
          ]
        },
        {
          "name": "stdout",
          "output_type": "stream",
          "text": [
            "Epoch 3, Loss: 3340.982177734375\n"
          ]
        },
        {
          "name": "stderr",
          "output_type": "stream",
          "text": [
            " 50%|█████     | 5/10 [02:01<01:59, 23.84s/it]"
          ]
        },
        {
          "name": "stdout",
          "output_type": "stream",
          "text": [
            "Epoch 4, Loss: 3519.8935546875\n"
          ]
        },
        {
          "name": "stderr",
          "output_type": "stream",
          "text": [
            " 60%|██████    | 6/10 [02:24<01:34, 23.58s/it]"
          ]
        },
        {
          "name": "stdout",
          "output_type": "stream",
          "text": [
            "Epoch 5, Loss: 3633.444091796875\n"
          ]
        },
        {
          "name": "stderr",
          "output_type": "stream",
          "text": [
            " 70%|███████   | 7/10 [02:47<01:10, 23.64s/it]"
          ]
        },
        {
          "name": "stdout",
          "output_type": "stream",
          "text": [
            "Epoch 6, Loss: 3057.557373046875\n"
          ]
        },
        {
          "name": "stderr",
          "output_type": "stream",
          "text": [
            " 80%|████████  | 8/10 [03:11<00:47, 23.64s/it]"
          ]
        },
        {
          "name": "stdout",
          "output_type": "stream",
          "text": [
            "Epoch 7, Loss: 3912.3291015625\n"
          ]
        },
        {
          "name": "stderr",
          "output_type": "stream",
          "text": [
            " 90%|█████████ | 9/10 [03:35<00:23, 23.68s/it]"
          ]
        },
        {
          "name": "stdout",
          "output_type": "stream",
          "text": [
            "Epoch 8, Loss: 3248.60791015625\n"
          ]
        },
        {
          "name": "stderr",
          "output_type": "stream",
          "text": [
            "100%|██████████| 10/10 [03:58<00:00, 23.86s/it]"
          ]
        },
        {
          "name": "stdout",
          "output_type": "stream",
          "text": [
            "Epoch 9, Loss: 3439.795654296875\n",
            "Training complete\n"
          ]
        },
        {
          "name": "stderr",
          "output_type": "stream",
          "text": [
            "\n"
          ]
        }
      ],
      "source": [
        "device = 'mps'\n",
        "\n",
        "latent_dim = 6\n",
        "conv_vae = ConvVAE(latent_dim).to(device)\n",
        "\n",
        "optimizer = optim.Adam(conv_vae.parameters(), lr=1e-3)\n",
        "\n",
        "mnist_data = datasets.MNIST(root='./data', train=True,\n",
        "                            download=True, transform = transform)\n",
        "\n",
        "# set dataloader\n",
        "mnist_loader = torch.utils.data.DataLoader(dataset = mnist_data,\n",
        "                                          batch_size = 64,\n",
        "                                          shuffle = True)\n",
        "# download data for test\n",
        "test_data = datasets.MNIST(root='./data', train=False,\n",
        "                            download=True, transform = transform)\n",
        "\n",
        "# Training loop\n",
        "epochs = 10\n",
        "loss_arr = train_model(conv_vae, epochs, mnist_loader, device=device)\n",
        "\n",
        "\n",
        "# Save the trained model\n",
        "# torch.save(conv_vae.state_dict(), 'conv_vae_mnist.pth')\n",
        "\n",
        "print(\"Training complete\")"
      ]
    },
    {
      "cell_type": "code",
      "execution_count": 270,
      "metadata": {},
      "outputs": [
        {
          "data": {
            "text/plain": [
              "<All keys matched successfully>"
            ]
          },
          "execution_count": 270,
          "metadata": {},
          "output_type": "execute_result"
        }
      ],
      "source": [
        "# latent_dim = \n",
        "conv_vae = ConvVAE(latent_dim).to('cpu')\n",
        "conv_vae.load_state_dict(torch.load('conv_vae_mnist.pth', map_location='cpu'))"
      ]
    },
    {
      "cell_type": "markdown",
      "metadata": {
        "id": "sfWCkOF3gVcT"
      },
      "source": [
        "# TRAIN AND TEST VAE"
      ]
    },
    {
      "cell_type": "code",
      "execution_count": 271,
      "metadata": {},
      "outputs": [
        {
          "data": {
            "image/png": "[encoded data removed]",
            "text/plain": [
              "<Figure size 1000x300 with 16 Axes>"
            ]
          },
          "metadata": {},
          "output_type": "display_data"
        }
      ],
      "source": [
        "conv_vae.eval()\n",
        "\n",
        "# Assuming 'test_data' is your MNIST test dataset\n",
        "test_loader = torch.utils.data.DataLoader(test_data, batch_size=8, shuffle=True)\n",
        "\n",
        "conv_vae.to('cpu')\n",
        "\n",
        "data = torch.Tensor(next(iter(test_loader))[0]).to('cpu')\n",
        "\n",
        "\n",
        "# Forward pass through the model\n",
        "with torch.no_grad():\n",
        "    reconstructed_images, _, _ = conv_vae(data)\n",
        "\n",
        "recov = []\n",
        "origin = []\n",
        "for i in range(8):\n",
        "  origin.append(data[i].reshape(28,28))\n",
        "  recov.append(reconstructed_images[i].reshape(28,28))\n",
        "\n",
        "fig, ax = plt.subplots(nrows=2, ncols =8, figsize=(10,3))\n",
        "\n",
        "for i in range(8):\n",
        "  ax[0,i].imshow(origin[i].squeeze())\n",
        "  ax[1,i].imshow(recov[i])"
      ]
    },
    {
      "cell_type": "code",
      "execution_count": 272,
      "metadata": {},
      "outputs": [
        {
          "name": "stdout",
          "output_type": "stream",
          "text": [
            "<bound method Module.modules of Sequential(\n",
            "  (0): Conv2d(1, 32, kernel_size=(3, 3), stride=(1, 1), padding=(1, 1))\n",
            "  (1): ReLU()\n",
            "  (2): Conv2d(32, 64, kernel_size=(3, 3), stride=(2, 2), padding=(1, 1))\n",
            "  (3): ReLU()\n",
            "  (4): Conv2d(64, 128, kernel_size=(3, 3), stride=(2, 2), padding=(1, 1))\n",
            "  (5): ReLU()\n",
            "  (6): Flatten(start_dim=1, end_dim=-1)\n",
            "  (7): Linear(in_features=6272, out_features=1024, bias=True)\n",
            "  (8): ReLU()\n",
            "  (9): Linear(in_features=1024, out_features=12, bias=True)\n",
            ")>\n",
            "<bound method Module.modules of Sequential(\n",
            "  (0): Linear(in_features=6, out_features=1024, bias=True)\n",
            "  (1): ReLU()\n",
            "  (2): Linear(in_features=1024, out_features=6272, bias=True)\n",
            "  (3): ReLU()\n",
            "  (4): Unflatten(dim=1, unflattened_size=(128, 7, 7))\n",
            "  (5): ConvTranspose2d(128, 64, kernel_size=(3, 3), stride=(2, 2), padding=(1, 1), output_padding=(1, 1))\n",
            "  (6): ReLU()\n",
            "  (7): ConvTranspose2d(64, 32, kernel_size=(3, 3), stride=(2, 2), padding=(1, 1), output_padding=(1, 1))\n",
            "  (8): ReLU()\n",
            "  (9): ConvTranspose2d(32, 1, kernel_size=(3, 3), stride=(1, 1), padding=(1, 1))\n",
            "  (10): Sigmoid()\n",
            ")>\n"
          ]
        }
      ],
      "source": [
        "print(conv_vae.encoder.modules)\n",
        "print(conv_vae.decoder.modules)"
      ]
    },
    {
      "cell_type": "code",
      "execution_count": 273,
      "metadata": {},
      "outputs": [
        {
          "data": {
            "text/plain": [
              "<torch.utils.hooks.RemovableHandle at 0x2a3d6ac50>"
            ]
          },
          "execution_count": 273,
          "metadata": {},
          "output_type": "execute_result"
        }
      ],
      "source": [
        "activations_encoder = {\n",
        "    'layer1' : None, \n",
        "    'layer2' : None, \n",
        "    'layer3' : None, \n",
        "    'layer4' : None,\n",
        "}\n",
        "\n",
        "activations_decoder = {\n",
        "    'layer1' : None, \n",
        "    'layer2' : None, \n",
        "    'layer3' : None, \n",
        "    'layer4' : None,\n",
        "}\n",
        "# activations_encoder = {}\n",
        "def get_activation_foo(name, activations):\n",
        "    def hookFoo(model, input, output):\n",
        "        if activations[name] == None: \n",
        "            activations[name] = output.detach()\n",
        "        else:\n",
        "            activations[name] = torch.cat((activations[name], output.detach()), 0)\n",
        "    return hookFoo\n",
        "\n",
        "def get_activation_foo_input(name, activations):\n",
        "    def hookFoo(model, input, output):\n",
        "        if activations[name] == None: \n",
        "            activations[name] = input[0].detach()\n",
        "        else:\n",
        "            activations[name] = torch.cat((activations[name], input[0].detach()), 0)\n",
        "    return hookFoo\n",
        "\n",
        "conv_vae.encoder[0].register_forward_hook(get_activation_foo('layer1', activations_encoder))\n",
        "conv_vae.encoder[2].register_forward_hook(get_activation_foo('layer2', activations_encoder))\n",
        "conv_vae.encoder[4].register_forward_hook(get_activation_foo('layer3', activations_encoder))\n",
        "conv_vae.encoder[9].register_forward_hook(get_activation_foo('layer4', activations_encoder))\n",
        "\n",
        "conv_vae.decoder[0].register_forward_hook(get_activation_foo_input('layer1', activations_decoder))\n",
        "conv_vae.decoder[5].register_forward_hook(get_activation_foo_input('layer2', activations_decoder))\n",
        "conv_vae.decoder[7].register_forward_hook(get_activation_foo_input('layer3', activations_decoder))\n",
        "conv_vae.decoder[9].register_forward_hook(get_activation_foo_input('layer4', activations_decoder))"
      ]
    },
    {
      "cell_type": "code",
      "execution_count": 274,
      "metadata": {},
      "outputs": [
        {
          "data": {
            "text/plain": [
              "{'layer1': None, 'layer2': None, 'layer3': None, 'layer4': None}"
            ]
          },
          "execution_count": 274,
          "metadata": {},
          "output_type": "execute_result"
        }
      ],
      "source": [
        "activations_encoder"
      ]
    },
    {
      "cell_type": "code",
      "execution_count": null,
      "metadata": {},
      "outputs": [],
      "source": [
        "for batch_idx, (data, _) in enumerate(mnist_loader):\n",
        "        with torch.no_grad():\n",
        "                reconstructed_images, mu, logvar = conv_vae(data)"
      ]
    },
    {
      "cell_type": "code",
      "execution_count": 283,
      "metadata": {},
      "outputs": [
        {
          "data": {
            "text/plain": [
              "torch.Size([18368, 64, 14, 14])"
            ]
          },
          "execution_count": 283,
          "metadata": {},
          "output_type": "execute_result"
        }
      ],
      "source": [
        "activations_encoder['layer2'].shape"
      ]
    },
    {
      "cell_type": "code",
      "execution_count": 286,
      "metadata": {},
      "outputs": [
        {
          "data": {
            "text/plain": [
              "torch.Size([18368, 64, 14])"
            ]
          },
          "execution_count": 286,
          "metadata": {},
          "output_type": "execute_result"
        }
      ],
      "source": [
        "activations_encoder['layer2'].mean(dim=2).shape"
      ]
    },
    {
      "cell_type": "code",
      "execution_count": 287,
      "metadata": {},
      "outputs": [
        {
          "ename": "ModuleNotFoundError",
          "evalue": "No module named 'pycore'",
          "output_type": "error",
          "traceback": [
            "\u001b[0;31m---------------------------------------------------------------------------\u001b[0m",
            "\u001b[0;31mModuleNotFoundError\u001b[0m                       Traceback (most recent call last)",
            "Cell \u001b[0;32mIn[287], line 3\u001b[0m\n\u001b[1;32m      1\u001b[0m \u001b[38;5;28;01mimport\u001b[39;00m \u001b[38;5;21;01msys\u001b[39;00m\n\u001b[1;32m      2\u001b[0m sys\u001b[38;5;241m.\u001b[39mpath\u001b[38;5;241m.\u001b[39mappend(\u001b[38;5;124m'\u001b[39m\u001b[38;5;124m../\u001b[39m\u001b[38;5;124m'\u001b[39m)\n\u001b[0;32m----> 3\u001b[0m \u001b[38;5;28;01mfrom\u001b[39;00m \u001b[38;5;21;01mpycore\u001b[39;00m\u001b[38;5;21;01m.\u001b[39;00m\u001b[38;5;21;01mtikzeng\u001b[39;00m \u001b[38;5;28;01mimport\u001b[39;00m \u001b[38;5;241m*\u001b[39m\n",
            "\u001b[0;31mModuleNotFoundError\u001b[0m: No module named 'pycore'"
          ]
        }
      ],
      "source": [
        "import sys\n",
        "sys.path.append('../')\n",
        "from pycore.tikzeng import *"
      ]
    },
    {
      "cell_type": "code",
      "execution_count": 2,
      "metadata": {},
      "outputs": [],
      "source": [
        "def epoch_train(loader, clf, criterion, opt):\n",
        "    # BEGIN Solution (do not delete this comment!)\n",
        "    clf.train(True)\n",
        "\n",
        "    total_loss = 0\n",
        "    total_accuracy = 0\n",
        "\n",
        "    for batch, targets in loader:\n",
        "        batch, targets = batch.to('mps'), targets.to('mps')\n",
        "        opt.zero_grad()\n",
        "        predict_targets = clf(batch)\n",
        "        loss = criterion(predict_targets, targets)\n",
        "        loss.backward()\n",
        "        opt.step()\n",
        "\n",
        "        total_loss += loss.item()\n",
        "        total_accuracy += torch.sum(predict_targets.argmax(dim = 1) == targets).item()\n",
        "\n",
        "    return total_loss/len(loader), total_accuracy/len(loader.dataset)\n",
        "\n",
        "    # END Solution (do not delete this comment!)\n",
        "\n",
        "def epoch_test(loader, clf, criterion):\n",
        "    # BEGIN Solution (do not delete this comment!)\n",
        "    clf.eval()\n",
        "\n",
        "    total_loss = 0\n",
        "    total_accuracy = 0\n",
        "\n",
        "    with torch.no_grad():\n",
        "        for batch, targets in loader:\n",
        "            batch, targets = batch.cuda(), targets.cuda()\n",
        "            predict_targets = clf(batch)\n",
        "            loss = criterion(predict_targets, targets)\n",
        "\n",
        "            total_loss += loss.item()\n",
        "            total_accuracy += torch.sum(predict_targets.argmax(dim = 1) == targets).item()\n",
        "\n",
        "    return total_loss/len(loader), total_accuracy/len(loader.dataset)\n",
        "\n",
        "    # END Solution (do not delete this comment!)\n",
        "\n",
        "# The function which you are going to use for model training\n",
        "def train(train_loader, test_loader, clf, criterion, opt, n_epochs=50):\n",
        "    for epoch in tqdm(range(n_epochs)):\n",
        "        train_loss, train_acc = epoch_train(train_loader, clf, criterion, opt)\n",
        "        test_loss, test_acc = epoch_test(test_loader, clf, criterion)\n",
        "\n",
        "        print(f'[Epoch {epoch + 1}] train loss: {train_loss:.3f}; train acc: {train_acc:.2f}; ' +\n",
        "              f'test loss: {test_loss:.3f}; test acc: {test_acc:.2f}')"
      ]
    },
    {
      "cell_type": "code",
      "execution_count": 3,
      "metadata": {},
      "outputs": [],
      "source": [
        "import pandas as pd\n",
        "from smallnet import LinearNet, Net, split_dataset\n",
        "\n",
        "data = pd.read_csv('data_decoder_20_dim.csv')"
      ]
    },
    {
      "cell_type": "code",
      "execution_count": 4,
      "metadata": {},
      "outputs": [],
      "source": [
        "import pandas as pd\n",
        "from torch.utils.data import Dataset, DataLoader\n",
        "from sklearn.model_selection import train_test_split\n",
        "from torch import nn, optim\n",
        "import torch\n",
        "import numpy as np\n",
        "\n",
        "class CustomDataset(Dataset):\n",
        "    def __init__(self, features, labels):\n",
        "        self.features = features\n",
        "        self.labels = labels\n",
        "\n",
        "    def __len__(self):\n",
        "        return len(self.labels)\n",
        "\n",
        "    def __getitem__(self, index):\n",
        "        return self.features[index], self.labels[index]"
      ]
    },
    {
      "cell_type": "code",
      "execution_count": 5,
      "metadata": {},
      "outputs": [],
      "source": [
        "data = pd.read_csv('data_encoder_20_dim.csv')\n",
        "targets = data.y\n",
        "X = data.drop(['y', 'i'], axis=1)\n",
        "X.columns = np.arange(0, X.shape[1], 1)\n",
        "X_train, X_test, y_train, y_test = train_test_split(X, targets, test_size=0.2, random_state=42)\n",
        "\n",
        "X_train = torch.from_numpy(X_train.to_numpy()).to(torch.float32)\n",
        "y_train = torch.from_numpy(y_train.to_numpy()).to(torch.float32)\n",
        "X_test = torch.from_numpy(X_test.to_numpy()).to(torch.float32)\n",
        "y_test = torch.from_numpy(y_test.to_numpy()).to(torch.float32)\n",
        "\n",
        "train_dataset = CustomDataset(X_train, y_train)\n",
        "test_dataset = CustomDataset(X_test, y_test)\n",
        "\n",
        "train_loader = DataLoader(dataset=train_dataset, batch_size=32, shuffle=True)\n",
        "test_loader = DataLoader(dataset=test_dataset, batch_size=32, shuffle=False)"
      ]
    },
    {
      "cell_type": "code",
      "execution_count": 6,
      "metadata": {},
      "outputs": [
        {
          "name": "stderr",
          "output_type": "stream",
          "text": [
            "  0%|          | 0/20 [00:00<?, ?it/s]"
          ]
        },
        {
          "ename": "",
          "evalue": "",
          "output_type": "error",
          "traceback": [
            "\u001b[1;31mThe Kernel crashed while executing code in the current cell or a previous cell. \n",
            "\u001b[1;31mPlease review the code in the cell(s) to identify a possible cause of the failure. \n",
            "\u001b[1;31mClick <a href='https://aka.ms/vscodeJupyterKernelCrash'>here</a> for more info. \n",
            "\u001b[1;31mView Jupyter <a href='command:jupyter.viewOutput'>log</a> for further details."
          ]
        }
      ],
      "source": [
        "from tqdm import tqdm\n",
        "input_size = X.shape[1]\n",
        "num_classes = 10\n",
        "\n",
        "model = LinearNet(input_size, num_classes).to('mps')\n",
        "criterion = nn.CrossEntropyLoss()\n",
        "optimizer = optim.Adam(model.parameters(), lr=0.001)\n",
        "\n",
        "train(train_loader, test_loader, model, criterion, optimizer, n_epochs=20)"
      ]
    },
    {
      "cell_type": "code",
      "execution_count": null,
      "metadata": {},
      "outputs": [],
      "source": []
    }
  ],
  "metadata": {
    "colab": {
      "provenance": []
    },
    "kernelspec": {
      "display_name": "Python 3",
      "name": "python3"
    },
    "language_info": {
      "codemirror_mode": {
        "name": "ipython",
        "version": 3
      },
      "file_extension": ".py",
      "mimetype": "text/x-python",
      "name": "python",
      "nbconvert_exporter": "python",
      "pygments_lexer": "ipython3",
      "version": "3.12.2"
    }
  },
  "nbformat": 4,
  "nbformat_minor": 0
}
